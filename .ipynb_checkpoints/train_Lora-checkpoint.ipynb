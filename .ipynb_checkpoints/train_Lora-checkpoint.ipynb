{
 "cells": [
  {
   "cell_type": "code",
   "execution_count": null,
   "id": "ad2354e3-3328-4d62-9653-ccb15e17850e",
   "metadata": {},
   "outputs": [],
   "source": [
    "from peft import get_peft_model, LoraConfig, TaskType\n"
   ]
  },
  {
   "cell_type": "code",
   "execution_count": null,
   "id": "2346494d-a209-4d50-895b-81a94db89403",
   "metadata": {},
   "outputs": [],
   "source": [
    "\n",
    "peft_config = LoraConfig(\n",
    "    task_type=TaskType.CAUSAL_LM, \n",
    "    inference_mode=False, \n",
    "    r=8, \n",
    "    lora_alpha=32, \n",
    "    lora_dropout=0.1,\n",
    "    target_modules=['query_key_value']\n",
    ")\n",
    "# 获取基础模型\n",
    "model = AutoModel.from_pretrained(\n",
    "    \"THUDM/chatglm-6b\", trust_remote_code=True, device_map=\"auto\"\n",
    ")\n",
    "# 加入peft config\n",
    "model = get_peft_model(model, peft_config)\n",
    "# 打印参数情况\n",
    "model.print_trainable_parameters()"
   ]
  },
  {
   "cell_type": "code",
   "execution_count": null,
   "id": "c16951ea-1af9-4c63-9d1c-05ed658bdc0d",
   "metadata": {},
   "outputs": [],
   "source": []
  },
  {
   "cell_type": "code",
   "execution_count": null,
   "id": "7c448ec2-c1cb-4609-ad41-6d9b5d8884bd",
   "metadata": {},
   "outputs": [],
   "source": []
  },
  {
   "cell_type": "code",
   "execution_count": null,
   "id": "48c5db85-8063-475a-8d92-f7b50094fba3",
   "metadata": {},
   "outputs": [],
   "source": []
  },
  {
   "cell_type": "code",
   "execution_count": null,
   "id": "54708bae-e338-4505-a999-2b7d9ca1701a",
   "metadata": {},
   "outputs": [],
   "source": [
    "conf = DiffConfig(DiffusionConfig, './config/diffusion.conf', show=False)\n",
    "\n",
    "model = get_model_conf().make_model()\n",
    "ckpt = torch.load(\"checkpoints/last.pt\")\n",
    "model.load_state_dict(ckpt[\"ema\"])\n",
    "model = self.model.cuda()\n",
    "model.eval()\n",
    "\n",
    "betas = conf.diffusion.beta_schedule.make()\n",
    "diffusion = create_gaussian_diffusion(self.betas, predict_xstart = False)#.to(device)\n",
    "\n",
    "pose_list = glob.glob('data/deepfashion_256x256/target_pose/*.npy')\n",
    "transforms = transforms.Compose([transforms.Resize((256,256), interpolation=Image.BICUBIC),\n",
    "                    transforms.ToTensor(), transforms.Normalize((0.5, 0.5, 0.5),\n",
    "                                        (0.5, 0.5, 0.5))])"
   ]
  }
 ],
 "metadata": {
  "kernelspec": {
   "display_name": "Python 3 (ipykernel)",
   "language": "python",
   "name": "python3"
  },
  "language_info": {
   "codemirror_mode": {
    "name": "ipython",
    "version": 3
   },
   "file_extension": ".py",
   "mimetype": "text/x-python",
   "name": "python",
   "nbconvert_exporter": "python",
   "pygments_lexer": "ipython3",
   "version": "3.8.18"
  }
 },
 "nbformat": 4,
 "nbformat_minor": 5
}
